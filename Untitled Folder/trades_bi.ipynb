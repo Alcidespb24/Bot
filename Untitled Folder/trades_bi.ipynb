{
 "cells": [
  {
   "cell_type": "code",
   "execution_count": 13,
   "id": "30889a4a",
   "metadata": {
    "scrolled": true
   },
   "outputs": [],
   "source": [
    "import pandas as pd\n",
    "from binance.client import Client\n",
    "import datetime"
   ]
  },
  {
   "cell_type": "code",
   "execution_count": null,
   "id": "ab8abbae",
   "metadata": {},
   "outputs": [],
   "source": []
  },
  {
   "cell_type": "code",
   "execution_count": 14,
   "id": "e1112966",
   "metadata": {},
   "outputs": [],
   "source": [
    "api_key = 'Iq8W1329NSUufpFoPMliUlbKi6AONciPGBpPPl065r7hBYUADFWbYHKZZu3qLxKT'\n",
    "api_secret = 'UKd62vHIGuwZPjPgOhPlfeA2uyFE4634PuCyNvLqNceOx9N6VgWVIgjtfmooE9Sg'\n",
    "\n",
    "client = Client(api_key, api_secret)"
   ]
  },
  {
   "cell_type": "code",
   "execution_count": 15,
   "id": "0912752a",
   "metadata": {},
   "outputs": [],
   "source": [
    "trades = trades = client.get_recent_trades(symbol='ETHUSDT', limit=1000)"
   ]
  },
  {
   "cell_type": "code",
   "execution_count": 16,
   "id": "3b74635e",
   "metadata": {},
   "outputs": [],
   "source": [
    "df = list(trades)"
   ]
  },
  {
   "cell_type": "code",
   "execution_count": 17,
   "id": "a58ccb39",
   "metadata": {},
   "outputs": [
    {
     "data": {
      "text/html": [
       "<div>\n",
       "<style scoped>\n",
       "    .dataframe tbody tr th:only-of-type {\n",
       "        vertical-align: middle;\n",
       "    }\n",
       "\n",
       "    .dataframe tbody tr th {\n",
       "        vertical-align: top;\n",
       "    }\n",
       "\n",
       "    .dataframe thead th {\n",
       "        text-align: right;\n",
       "    }\n",
       "</style>\n",
       "<table border=\"1\" class=\"dataframe\">\n",
       "  <thead>\n",
       "    <tr style=\"text-align: right;\">\n",
       "      <th></th>\n",
       "      <th>id</th>\n",
       "      <th>price</th>\n",
       "      <th>qty</th>\n",
       "      <th>quoteQty</th>\n",
       "      <th>time</th>\n",
       "      <th>isBuyerMaker</th>\n",
       "      <th>isBestMatch</th>\n",
       "    </tr>\n",
       "  </thead>\n",
       "  <tbody>\n",
       "    <tr>\n",
       "      <th>0</th>\n",
       "      <td>1000514729</td>\n",
       "      <td>1559.94000000</td>\n",
       "      <td>0.10000000</td>\n",
       "      <td>155.99400000</td>\n",
       "      <td>1666996929358</td>\n",
       "      <td>False</td>\n",
       "      <td>True</td>\n",
       "    </tr>\n",
       "    <tr>\n",
       "      <th>1</th>\n",
       "      <td>1000514730</td>\n",
       "      <td>1559.94000000</td>\n",
       "      <td>0.09890000</td>\n",
       "      <td>154.27806600</td>\n",
       "      <td>1666996929359</td>\n",
       "      <td>False</td>\n",
       "      <td>True</td>\n",
       "    </tr>\n",
       "    <tr>\n",
       "      <th>2</th>\n",
       "      <td>1000514731</td>\n",
       "      <td>1559.94000000</td>\n",
       "      <td>0.92610000</td>\n",
       "      <td>1444.66043400</td>\n",
       "      <td>1666996929359</td>\n",
       "      <td>False</td>\n",
       "      <td>True</td>\n",
       "    </tr>\n",
       "    <tr>\n",
       "      <th>3</th>\n",
       "      <td>1000514732</td>\n",
       "      <td>1559.93000000</td>\n",
       "      <td>0.35530000</td>\n",
       "      <td>554.24312900</td>\n",
       "      <td>1666996929481</td>\n",
       "      <td>True</td>\n",
       "      <td>True</td>\n",
       "    </tr>\n",
       "    <tr>\n",
       "      <th>4</th>\n",
       "      <td>1000514733</td>\n",
       "      <td>1559.93000000</td>\n",
       "      <td>0.77400000</td>\n",
       "      <td>1207.38582000</td>\n",
       "      <td>1666996929540</td>\n",
       "      <td>True</td>\n",
       "      <td>True</td>\n",
       "    </tr>\n",
       "    <tr>\n",
       "      <th>...</th>\n",
       "      <td>...</td>\n",
       "      <td>...</td>\n",
       "      <td>...</td>\n",
       "      <td>...</td>\n",
       "      <td>...</td>\n",
       "      <td>...</td>\n",
       "      <td>...</td>\n",
       "    </tr>\n",
       "    <tr>\n",
       "      <th>995</th>\n",
       "      <td>1000515724</td>\n",
       "      <td>1559.92000000</td>\n",
       "      <td>0.60000000</td>\n",
       "      <td>935.95200000</td>\n",
       "      <td>1666996996673</td>\n",
       "      <td>False</td>\n",
       "      <td>True</td>\n",
       "    </tr>\n",
       "    <tr>\n",
       "      <th>996</th>\n",
       "      <td>1000515725</td>\n",
       "      <td>1559.92000000</td>\n",
       "      <td>0.28980000</td>\n",
       "      <td>452.06481600</td>\n",
       "      <td>1666996996675</td>\n",
       "      <td>False</td>\n",
       "      <td>True</td>\n",
       "    </tr>\n",
       "    <tr>\n",
       "      <th>997</th>\n",
       "      <td>1000515726</td>\n",
       "      <td>1559.92000000</td>\n",
       "      <td>0.41020000</td>\n",
       "      <td>639.87918400</td>\n",
       "      <td>1666996996675</td>\n",
       "      <td>False</td>\n",
       "      <td>True</td>\n",
       "    </tr>\n",
       "    <tr>\n",
       "      <th>998</th>\n",
       "      <td>1000515727</td>\n",
       "      <td>1559.93000000</td>\n",
       "      <td>0.01920000</td>\n",
       "      <td>29.95065600</td>\n",
       "      <td>1666996997193</td>\n",
       "      <td>False</td>\n",
       "      <td>True</td>\n",
       "    </tr>\n",
       "    <tr>\n",
       "      <th>999</th>\n",
       "      <td>1000515728</td>\n",
       "      <td>1559.94000000</td>\n",
       "      <td>0.00200000</td>\n",
       "      <td>3.11988000</td>\n",
       "      <td>1666996997193</td>\n",
       "      <td>False</td>\n",
       "      <td>True</td>\n",
       "    </tr>\n",
       "  </tbody>\n",
       "</table>\n",
       "<p>1000 rows × 7 columns</p>\n",
       "</div>"
      ],
      "text/plain": [
       "             id          price         qty       quoteQty           time  \\\n",
       "0    1000514729  1559.94000000  0.10000000   155.99400000  1666996929358   \n",
       "1    1000514730  1559.94000000  0.09890000   154.27806600  1666996929359   \n",
       "2    1000514731  1559.94000000  0.92610000  1444.66043400  1666996929359   \n",
       "3    1000514732  1559.93000000  0.35530000   554.24312900  1666996929481   \n",
       "4    1000514733  1559.93000000  0.77400000  1207.38582000  1666996929540   \n",
       "..          ...            ...         ...            ...            ...   \n",
       "995  1000515724  1559.92000000  0.60000000   935.95200000  1666996996673   \n",
       "996  1000515725  1559.92000000  0.28980000   452.06481600  1666996996675   \n",
       "997  1000515726  1559.92000000  0.41020000   639.87918400  1666996996675   \n",
       "998  1000515727  1559.93000000  0.01920000    29.95065600  1666996997193   \n",
       "999  1000515728  1559.94000000  0.00200000     3.11988000  1666996997193   \n",
       "\n",
       "     isBuyerMaker  isBestMatch  \n",
       "0           False         True  \n",
       "1           False         True  \n",
       "2           False         True  \n",
       "3            True         True  \n",
       "4            True         True  \n",
       "..            ...          ...  \n",
       "995         False         True  \n",
       "996         False         True  \n",
       "997         False         True  \n",
       "998         False         True  \n",
       "999         False         True  \n",
       "\n",
       "[1000 rows x 7 columns]"
      ]
     },
     "execution_count": 17,
     "metadata": {},
     "output_type": "execute_result"
    }
   ],
   "source": [
    "df = pd.DataFrame(df)\n",
    "df"
   ]
  },
  {
   "cell_type": "code",
   "execution_count": 18,
   "id": "d1da160b",
   "metadata": {},
   "outputs": [],
   "source": [
    "df.time = pd.to_datetime(df.time)"
   ]
  },
  {
   "cell_type": "code",
   "execution_count": 7,
   "id": "2539f39a",
   "metadata": {},
   "outputs": [],
   "source": [
    "df.to_csv(r\"D:\\Trading\\Bot\\Docs/ETHUSD Trades_binance_recents.csv\",index=False)"
   ]
  },
  {
   "cell_type": "code",
   "execution_count": 8,
   "id": "bcc26683",
   "metadata": {},
   "outputs": [],
   "source": [
    "trades = client.get_aggregate_trades(symbol='ETHUSDT', limit=5000)"
   ]
  },
  {
   "cell_type": "code",
   "execution_count": 9,
   "id": "577c2575",
   "metadata": {},
   "outputs": [],
   "source": [
    "df=list(trades)"
   ]
  },
  {
   "cell_type": "code",
   "execution_count": 10,
   "id": "6ace2aa5",
   "metadata": {},
   "outputs": [],
   "source": [
    "df=pd.DataFrame(df)"
   ]
  },
  {
   "cell_type": "code",
   "execution_count": 11,
   "id": "6912d7da",
   "metadata": {},
   "outputs": [],
   "source": [
    "df[\"T\"] = pd.to_datetime(df['T'])"
   ]
  },
  {
   "cell_type": "code",
   "execution_count": null,
   "id": "7e7c4bd3",
   "metadata": {},
   "outputs": [],
   "source": []
  },
  {
   "cell_type": "code",
   "execution_count": 12,
   "id": "b666af94",
   "metadata": {},
   "outputs": [],
   "source": [
    "df.to_csv(r\"D:\\Trading\\Bot\\Docs/ETHUSD Trades_binance_agregated.csv\",index=False)"
   ]
  },
  {
   "cell_type": "code",
   "execution_count": null,
   "id": "0ddc794c",
   "metadata": {},
   "outputs": [],
   "source": []
  },
  {
   "cell_type": "code",
   "execution_count": null,
   "id": "b0f27a19",
   "metadata": {},
   "outputs": [],
   "source": []
  },
  {
   "cell_type": "code",
   "execution_count": null,
   "id": "1de9bb08",
   "metadata": {},
   "outputs": [],
   "source": []
  }
 ],
 "metadata": {
  "kernelspec": {
   "display_name": "Python 3.9.12 64-bit",
   "language": "python",
   "name": "python3"
  },
  "language_info": {
   "codemirror_mode": {
    "name": "ipython",
    "version": 3
   },
   "file_extension": ".py",
   "mimetype": "text/x-python",
   "name": "python",
   "nbconvert_exporter": "python",
   "pygments_lexer": "ipython3",
   "version": "3.9.12"
  },
  "vscode": {
   "interpreter": {
    "hash": "9a11ceba4d29aee146aa46b01a48668d2102ae32817cb50689707675b87baa9a"
   }
  }
 },
 "nbformat": 4,
 "nbformat_minor": 5
}
