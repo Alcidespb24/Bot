{
 "cells": [
  {
   "cell_type": "code",
   "execution_count": null,
   "id": "4ca5b9a5",
   "metadata": {},
   "outputs": [],
   "source": [
    "import cbpro\n",
    "import pandas as pd\n",
    "from pathlib import Path\n",
    "import time \n",
    "import matplotlib.pyplot as plt\n",
    "import seaborn as sns\n",
    "import datetime as dt\n",
    "import pytz\n",
    "\n",
    "def ob():\n",
    "    \n",
    "    client = cbpro.PublicClient()\n",
    "\n",
    "    # order_book = cbp.get_product_order_book('ETH-USD')\n",
    "\n",
    "    order_book = cbpro.OrderBook(product_id='ETH-USD')\n",
    "    order_book.start()\n",
    "\n",
    "    data = client.get_product_order_book('ETH-USD', level=2)\n",
    "    data\n",
    "\n",
    "    # df = pd.DataFrame(data['bids'])\n",
    "    # df\n",
    "    bids = pd.DataFrame(data['bids'])\n",
    "    asks = pd.DataFrame(data['asks'])\n",
    "    # df = pd.DataFrame(data)\n",
    "\n",
    "    df = pd.merge(bids, asks, left_index=True, right_index=True)\n",
    "    df = df.rename({\"0_x\":\"Bid Price\",\"1_x\":\"Bid Size\", \"2_x\":\"Bid Amount\",\n",
    "                    \"0_y\":\"Ask Price\",\"1_y\":\"Ask Size\", \"2_y\":\"Ask Amount\"}, axis='columns')\n",
    "\n",
    "    df['Bid Price'] = pd.to_numeric(df['Bid Price'])\n",
    "    df['Ask Price'] = pd.to_numeric(df['Ask Price'])\n",
    "    df['Bid Size'] = pd.to_numeric(df['Bid Size'])\n",
    "    df['Ask Size'] = pd.to_numeric(df['Ask Size'])\n",
    "    df['Bid Amount'] = pd.to_numeric(df['Bid Amount'])\n",
    "    df['Ask Amount'] = pd.to_numeric(df['Ask Amount'])\n",
    "    \n",
    "    df['Spread'] = df['Bid Price']-df['Ask Price']\n",
    "    df['Diff Size'] = df['Bid Size']-df['Ask Size']\n",
    "    return (df)\n",
    "\n",
    "df = ob()\n",
    "\n",
    "df.iloc[1]\n",
    "\n",
    "# df.to_csv(r\"D:\\Trading\\Bot\\Docs/ETHUSD Bids.csv\",index=False)"
   ]
  },
  {
   "cell_type": "code",
   "execution_count": null,
   "id": "a935298a",
   "metadata": {},
   "outputs": [],
   "source": [
    "# import cbpro\n",
    "# import pandas as pd\n",
    "# from pathlib import Path\n",
    "# import time \n",
    "# import matplotlib.pyplot as plt\n",
    "# import seaborn as sns\n",
    "# import datetime as dt\n",
    "# import pytz\n",
    "# import requests\n",
    "\n",
    "# client = cbpro.PublicClient()\n",
    "\n",
    "# url = \"https://api.exchange.coinbase.com/products/ETH-USD/book?level=2\"\n",
    "\n",
    "# headers = {\"accept\": \"application/json\"}\n",
    "\n",
    "# response = requests.get(url, headers=headers)\n",
    "\n",
    "# print(response.text)"
   ]
  },
  {
   "cell_type": "code",
   "execution_count": 1,
   "id": "9c2f0a91",
   "metadata": {},
   "outputs": [
    {
     "data": {
      "text/plain": [
       "<generator object PublicClient._send_paginated_message at 0x000001626EF59D60>"
      ]
     },
     "execution_count": 1,
     "metadata": {},
     "output_type": "execute_result"
    }
   ],
   "source": [
    "import cbpro\n",
    "import pandas as pd\n",
    "from pathlib import Path\n",
    "import time \n",
    "import matplotlib.pyplot as plt\n",
    "import seaborn as sns\n",
    "import datetime as dt\n",
    "import pytz\n",
    "\n",
    "client = cbpro.PublicClient()\n",
    "client.get_product_trades(product_id='ETH-USD')"
   ]
  },
  {
   "cell_type": "code",
   "execution_count": 2,
   "id": "215a485d",
   "metadata": {},
   "outputs": [],
   "source": [
    "# pd.DataFrame(client.get_products())"
   ]
  },
  {
   "cell_type": "code",
   "execution_count": null,
   "id": "8e1c1c3f",
   "metadata": {},
   "outputs": [],
   "source": []
  },
  {
   "cell_type": "code",
   "execution_count": 3,
   "id": "ae7ef1ec",
   "metadata": {},
   "outputs": [],
   "source": [
    "get_trades = client.get_product_trades(product_id='ETH-USD')"
   ]
  },
  {
   "cell_type": "code",
   "execution_count": 4,
   "id": "d749e534",
   "metadata": {},
   "outputs": [],
   "source": [
    "# import sys\n",
    "# import logging\n",
    "\n",
    "# so = open(\"data.log\", 'w', 10)\n",
    "# sys.stdout.echo = so\n",
    "# sys.stderr.echo = so\n",
    "\n",
    "# get_ipython().log.handlers[0].stream = so\n",
    "# get_ipython().log.setLevel(logging.INFO)"
   ]
  },
  {
   "cell_type": "code",
   "execution_count": 5,
   "id": "d9729054",
   "metadata": {},
   "outputs": [
    {
     "data": {
      "text/plain": [
       "{'time': '2022-10-25T22:55:16.583098Z',\n",
       " 'trade_id': 373336554,\n",
       " 'price': '1457.09000000',\n",
       " 'size': '0.00253958',\n",
       " 'side': 'sell'}"
      ]
     },
     "execution_count": 5,
     "metadata": {},
     "output_type": "execute_result"
    }
   ],
   "source": [
    "next(get_trades)"
   ]
  },
  {
   "cell_type": "code",
   "execution_count": null,
   "id": "3c80eb35",
   "metadata": {},
   "outputs": [],
   "source": [
    "all_trades = list(get_trades)"
   ]
  },
  {
   "cell_type": "code",
   "execution_count": null,
   "id": "4022a9c4",
   "metadata": {},
   "outputs": [],
   "source": [
    "all_trades"
   ]
  },
  {
   "cell_type": "code",
   "execution_count": null,
   "id": "0be99668",
   "metadata": {},
   "outputs": [],
   "source": [
    "df_trades = pd.DataFrame(all_trades[:-1])\n",
    "df_trades"
   ]
  },
  {
   "cell_type": "code",
   "execution_count": null,
   "id": "2eca114c",
   "metadata": {},
   "outputs": [],
   "source": [
    "df_trades['price'] = pd.to_numeric(df_trades['price'])\n",
    "df_trades['size'] = pd.to_numeric(df_trades['size'])"
   ]
  },
  {
   "cell_type": "code",
   "execution_count": null,
   "id": "6d766a63",
   "metadata": {},
   "outputs": [],
   "source": [
    "df_trades['trade_dollar_size'] = df_trades['price'] * df_trades['size']\n",
    "df_trades ['change_in_price'] = df_trades['price'].diff().abs()"
   ]
  },
  {
   "cell_type": "code",
   "execution_count": null,
   "id": "88416543",
   "metadata": {},
   "outputs": [],
   "source": [
    "df_trades[['price', 'size','trade_dollar_size','change_in_price']].describe()"
   ]
  },
  {
   "cell_type": "code",
   "execution_count": null,
   "id": "a36d1f68",
   "metadata": {},
   "outputs": [],
   "source": [
    "df_trades['time'] = pd.to_datetime(df_trades.time, format='%Y-%m-%d %H:%M:%S')\n",
    "\n",
    "df_trades['time'] = df_trades['time'].dt.strftime(\"%Y-%m-%d %H:%M:%S\")\n",
    "\n",
    "df_trades.head()"
   ]
  },
  {
   "cell_type": "code",
   "execution_count": null,
   "id": "2fe00fd2",
   "metadata": {},
   "outputs": [],
   "source": [
    "df_trades.drop(['trade_id'], axis=1)"
   ]
  },
  {
   "cell_type": "code",
   "execution_count": null,
   "id": "5cc8e818",
   "metadata": {},
   "outputs": [],
   "source": [
    "df_trades.to_csv(r\"C:\\Users\\sheyl\\Desktop\\Alcides\\Bot\\Docs/ETHUSD Trades.csv\",index=False)"
   ]
  },
  {
   "cell_type": "code",
   "execution_count": null,
   "id": "3840d052",
   "metadata": {},
   "outputs": [],
   "source": [
    "# fig, ax = plt.subplots()\n",
    "# fig = plt.figure(figsize = (60, 40))\n",
    "# ax.bar(df_trades['trade_dollar_size'], df_trades['price'])\n",
    "\n",
    "# plt.show()"
   ]
  },
  {
   "cell_type": "code",
   "execution_count": null,
   "id": "19c9d007",
   "metadata": {},
   "outputs": [],
   "source": [
    "fig, ax = plt.subplots(figsize = (15, 5))\n",
    "\n",
    "sns.scatterplot(x=df_trades[\"price\"], y=df_trades[\"size\"], hue=\"side\", data=df_trades, ax=ax)\n",
    "\n",
    "ax.set_xlabel(\"Price\")\n",
    "ax.set_ylabel(\"Quantity\")\n",
    "\n",
    "plt.show()"
   ]
  },
  {
   "cell_type": "code",
   "execution_count": null,
   "id": "0c51d4b1",
   "metadata": {},
   "outputs": [],
   "source": []
  },
  {
   "cell_type": "code",
   "execution_count": null,
   "id": "135dbdb6",
   "metadata": {},
   "outputs": [],
   "source": []
  }
 ],
 "metadata": {
  "kernelspec": {
   "display_name": "Python 3 (ipykernel)",
   "language": "python",
   "name": "python3"
  },
  "language_info": {
   "codemirror_mode": {
    "name": "ipython",
    "version": 3
   },
   "file_extension": ".py",
   "mimetype": "text/x-python",
   "name": "python",
   "nbconvert_exporter": "python",
   "pygments_lexer": "ipython3",
   "version": "3.9.12"
  },
  "vscode": {
   "interpreter": {
    "hash": "9f1d38ad1c3864df9d0e2cf28585537b32ae118c96ef2975b3475d62942b32de"
   }
  }
 },
 "nbformat": 4,
 "nbformat_minor": 5
}
