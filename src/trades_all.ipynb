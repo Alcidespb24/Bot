{
 "cells": [
  {
   "cell_type": "code",
   "execution_count": null,
   "id": "9c2f0a91",
   "metadata": {},
   "outputs": [],
   "source": [
    "import cbpro\n",
    "import pandas as pd\n",
    "from pathlib import Path\n",
    "import time \n",
    "import matplotlib.pyplot as plt\n",
    "import seaborn as sns\n",
    "import datetime as dt\n",
    "import pytz\n",
    "import itertools\n",
    "from tkinter import *\n",
    "from tkinter import ttk\n",
    "import warnings\n",
    "from trades_5m import trades_5m\n",
    "warnings.filterwarnings('ignore')\n",
    "warnings.simplefilter('ignore')\n",
    "\n",
    "\n",
    "client = cbpro.PublicClient()\n",
    "client.get_product_trades(product_id='ETH-USD')"
   ]
  },
  {
   "cell_type": "code",
   "execution_count": null,
   "id": "3e789f64",
   "metadata": {},
   "outputs": [],
   "source": [
    "symbol = 'ETH-USD'\n",
    "\n",
    "def trades ():\n",
    "    get_trades = client.get_product_trades(product_id=f'{symbol}')\n",
    "    \n",
    "    df = list(itertools.islice(get_trades, 100))\n",
    "    \n",
    "    df = pd.DataFrame(df)\n",
    "    df = pd.DataFrame(df[:-1])\n",
    "    \n",
    "    df['price'] = pd.to_numeric(df['price'])\n",
    "    df['size'] = pd.to_numeric(df['size'])\n",
    "\n",
    "    df['trade_dollar_size'] = df['price'] * df['size']\n",
    "    df ['change_in_price'] = df['price'].diff()\n",
    "\n",
    "    df ['change_in_size'] = df['size'].diff()\n",
    "\n",
    "    df['trade_dollar_size'] = pd.to_numeric(df['price'])\n",
    "    df['change_in_price'] = pd.to_numeric(df['size'])\n",
    "    df['change_in_size'] = pd.to_numeric(df['price'])\n",
    "\n",
    "    df[['price', 'size','trade_dollar_size','change_in_price']].describe()\n",
    "\n",
    "    df.drop(['trade_id'], axis=1)\n",
    "    \n",
    "    df.loc[df['side'] == 'buy', 'size'] = df['size'] * -1\n",
    "    df.loc[df['side'] == 'sell', 'size'] = df['size'] * 1\n",
    "    \n",
    "    df.to_csv(r\"D:\\Trading\\Bot\\Docs/ETHUSD Trades.csv\",index=False)\n",
    "    \n",
    "    return(df)"
   ]
  },
  {
   "cell_type": "code",
   "execution_count": null,
   "id": "d8b51a05",
   "metadata": {},
   "outputs": [],
   "source": [
    "trades_5m()"
   ]
  },
  {
   "cell_type": "code",
   "execution_count": null,
   "id": "ac37a134",
   "metadata": {},
   "outputs": [],
   "source": [
    "def raw_trades ():\n",
    "    first = True\n",
    "    \n",
    "    while True:\n",
    "            if (dt.now().minute % 5 == 0 & dt.now().second % 1 == 0) or first:\n",
    "                trades()\n",
    "                "
   ]
  },
  {
   "cell_type": "code",
   "execution_count": null,
   "id": "8bd4e4e3",
   "metadata": {},
   "outputs": [],
   "source": []
  },
  {
   "cell_type": "code",
   "execution_count": null,
   "id": "ae7ef1ec",
   "metadata": {},
   "outputs": [],
   "source": [
    "# get_trades = client.get_product_trades(product_id='ETH-USD')"
   ]
  },
  {
   "cell_type": "code",
   "execution_count": null,
   "id": "e9f8ce9c",
   "metadata": {},
   "outputs": [],
   "source": [
    "# df = list(itertools.islice(get_trades, 5000000))"
   ]
  },
  {
   "cell_type": "code",
   "execution_count": null,
   "id": "70c9cc20",
   "metadata": {},
   "outputs": [],
   "source": [
    "# df = pd.DataFrame(df)"
   ]
  },
  {
   "cell_type": "code",
   "execution_count": null,
   "id": "86bb2fa0",
   "metadata": {},
   "outputs": [],
   "source": [
    "# df = pd.DataFrame(df[:-1])"
   ]
  },
  {
   "cell_type": "code",
   "execution_count": null,
   "id": "b4de91c5",
   "metadata": {},
   "outputs": [],
   "source": [
    "# df"
   ]
  },
  {
   "cell_type": "code",
   "execution_count": null,
   "id": "a0aba14e",
   "metadata": {},
   "outputs": [],
   "source": [
    "# df['price'] = pd.to_numeric(df['price'])\n",
    "# df['size'] = pd.to_numeric(df['size'])\n",
    "\n",
    "# df['trade_dollar_size'] = df['price'] * df['size']\n",
    "# df ['change_in_price'] = df['price'].diff()\n",
    "\n",
    "# df ['change_in_size'] = df['size'].diff()\n",
    "\n",
    "# df['trade_dollar_size'] = pd.to_numeric(df['price'])\n",
    "# df['change_in_price'] = pd.to_numeric(df['size'])\n",
    "# df['change_in_size'] = pd.to_numeric(df['price'])\n",
    "\n",
    "# df[['price', 'size','trade_dollar_size','change_in_price']].describe()\n",
    "\n",
    "# df.drop(['trade_id'], axis=1)"
   ]
  },
  {
   "cell_type": "code",
   "execution_count": null,
   "id": "d12520e5",
   "metadata": {},
   "outputs": [],
   "source": []
  },
  {
   "cell_type": "code",
   "execution_count": null,
   "id": "3532f2d5",
   "metadata": {},
   "outputs": [],
   "source": [
    "# df.loc[df['side'] == 'buy', 'size'] = df['size'] * -1\n",
    "# df.loc[df['side'] == 'sell', 'size'] = df['size'] * 1"
   ]
  },
  {
   "cell_type": "code",
   "execution_count": null,
   "id": "68a6cf4d",
   "metadata": {},
   "outputs": [],
   "source": []
  },
  {
   "cell_type": "code",
   "execution_count": null,
   "id": "e4e52902",
   "metadata": {},
   "outputs": [],
   "source": [
    "# df_describe = df[['price', 'size','trade_dollar_size','change_in_price']].describe()"
   ]
  },
  {
   "cell_type": "code",
   "execution_count": null,
   "id": "69112595",
   "metadata": {},
   "outputs": [],
   "source": [
    "# df_describe.to_csv(r\"D:\\Trading\\Bot\\Docs/ETHUSD Trades_Describe.csv\",index=False)"
   ]
  },
  {
   "cell_type": "code",
   "execution_count": null,
   "id": "d885a541",
   "metadata": {},
   "outputs": [],
   "source": [
    "# df.to_csv(r\"D:\\Trading\\Bot\\Docs/ETHUSD Trades.csv\",index=False)"
   ]
  },
  {
   "cell_type": "code",
   "execution_count": null,
   "id": "341c2ca7",
   "metadata": {},
   "outputs": [],
   "source": []
  }
 ],
 "metadata": {
  "kernelspec": {
   "display_name": "Python 3 (ipykernel)",
   "language": "python",
   "name": "python3"
  },
  "language_info": {
   "codemirror_mode": {
    "name": "ipython",
    "version": 3
   },
   "file_extension": ".py",
   "mimetype": "text/x-python",
   "name": "python",
   "nbconvert_exporter": "python",
   "pygments_lexer": "ipython3",
   "version": "3.9.13"
  },
  "vscode": {
   "interpreter": {
    "hash": "9f1d38ad1c3864df9d0e2cf28585537b32ae118c96ef2975b3475d62942b32de"
   }
  }
 },
 "nbformat": 4,
 "nbformat_minor": 5
}
