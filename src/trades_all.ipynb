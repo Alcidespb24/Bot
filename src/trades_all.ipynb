{
 "cells": [
  {
   "cell_type": "code",
   "execution_count": 8,
   "id": "9c2f0a91",
   "metadata": {},
   "outputs": [
    {
     "data": {
      "text/plain": [
       "<generator object PublicClient._send_paginated_message at 0x0000022A6F874580>"
      ]
     },
     "execution_count": 8,
     "metadata": {},
     "output_type": "execute_result"
    }
   ],
   "source": [
    "import cbpro\n",
    "import pandas as pd\n",
    "from pathlib import Path\n",
    "import time \n",
    "import matplotlib.pyplot as plt\n",
    "import seaborn as sns\n",
    "import datetime as dt\n",
    "import pytz\n",
    "import itertools\n",
    "from tkinter import *\n",
    "from tkinter import ttk\n",
    "import warnings\n",
    "# from trades_5m import trades_5m\n",
    "warnings.filterwarnings('ignore')\n",
    "warnings.simplefilter('ignore')\n",
    "\n",
    "\n",
    "client = cbpro.PublicClient()\n",
    "client.get_product_trades(product_id='ETH-USD')"
   ]
  },
  {
   "cell_type": "code",
   "execution_count": 9,
   "id": "39339593",
   "metadata": {},
   "outputs": [],
   "source": [
    "symbol = 'ETH-USD'\n",
    "\n",
    "def trades ():\n",
    "    get_trades = client.get_product_trades(product_id=f'{symbol}')\n",
    "    \n",
    "    df = list(itertools.islice(get_trades, 100))\n",
    "    \n",
    "    df = pd.DataFrame(df)\n",
    "    df = pd.DataFrame(df[:-1])\n",
    "    \n",
    "    df['price'] = pd.to_numeric(df['price'])\n",
    "    df['size'] = pd.to_numeric(df['size'])\n",
    "\n",
    "    df['trade_dollar_size'] = df['price'] * df['size']\n",
    "    df ['change_in_price'] = df['price'].diff()\n",
    "\n",
    "    df ['change_in_size'] = df['size'].diff()\n",
    "\n",
    "    df['trade_dollar_size'] = pd.to_numeric(df['price'])\n",
    "    df['change_in_price'] = pd.to_numeric(df['size'])\n",
    "    df['change_in_size'] = pd.to_numeric(df['price'])\n",
    "\n",
    "    df[['price', 'size','trade_dollar_size','change_in_price']].describe()\n",
    "\n",
    "    df.drop(['trade_id'], axis=1)\n",
    "    \n",
    "    df.loc[df['side'] == 'buy', 'size'] = df['size'] * -1\n",
    "    df.loc[df['side'] == 'sell', 'size'] = df['size'] * 1\n",
    "    \n",
    "    df.to_csv(r\"D:\\Trading\\Bot\\Docs/ETHUSD Trades.csv\",index=False)\n",
    "    \n",
    "    return(df)"
   ]
  },
  {
   "cell_type": "code",
   "execution_count": 11,
   "id": "92f2c273",
   "metadata": {},
   "outputs": [
    {
     "data": {
      "text/html": [
       "<div>\n",
       "<style scoped>\n",
       "    .dataframe tbody tr th:only-of-type {\n",
       "        vertical-align: middle;\n",
       "    }\n",
       "\n",
       "    .dataframe tbody tr th {\n",
       "        vertical-align: top;\n",
       "    }\n",
       "\n",
       "    .dataframe thead th {\n",
       "        text-align: right;\n",
       "    }\n",
       "</style>\n",
       "<table border=\"1\" class=\"dataframe\">\n",
       "  <thead>\n",
       "    <tr style=\"text-align: right;\">\n",
       "      <th></th>\n",
       "      <th>time</th>\n",
       "      <th>trade_id</th>\n",
       "      <th>price</th>\n",
       "      <th>size</th>\n",
       "      <th>side</th>\n",
       "      <th>trade_dollar_size</th>\n",
       "      <th>change_in_price</th>\n",
       "      <th>change_in_size</th>\n",
       "    </tr>\n",
       "  </thead>\n",
       "  <tbody>\n",
       "    <tr>\n",
       "      <th>0</th>\n",
       "      <td>2022-11-20T10:20:34.981893Z</td>\n",
       "      <td>387086081</td>\n",
       "      <td>1206.11</td>\n",
       "      <td>0.007972</td>\n",
       "      <td>sell</td>\n",
       "      <td>1206.11</td>\n",
       "      <td>0.007972</td>\n",
       "      <td>1206.11</td>\n",
       "    </tr>\n",
       "    <tr>\n",
       "      <th>1</th>\n",
       "      <td>2022-11-20T10:20:33.515487Z</td>\n",
       "      <td>387086080</td>\n",
       "      <td>1206.06</td>\n",
       "      <td>2.072883</td>\n",
       "      <td>sell</td>\n",
       "      <td>1206.06</td>\n",
       "      <td>2.072883</td>\n",
       "      <td>1206.06</td>\n",
       "    </tr>\n",
       "    <tr>\n",
       "      <th>2</th>\n",
       "      <td>2022-11-20T10:20:33.515487Z</td>\n",
       "      <td>387086079</td>\n",
       "      <td>1206.05</td>\n",
       "      <td>0.207289</td>\n",
       "      <td>sell</td>\n",
       "      <td>1206.05</td>\n",
       "      <td>0.207289</td>\n",
       "      <td>1206.05</td>\n",
       "    </tr>\n",
       "    <tr>\n",
       "      <th>3</th>\n",
       "      <td>2022-11-20T10:20:27.70688Z</td>\n",
       "      <td>387086078</td>\n",
       "      <td>1206.08</td>\n",
       "      <td>0.041800</td>\n",
       "      <td>sell</td>\n",
       "      <td>1206.08</td>\n",
       "      <td>0.041800</td>\n",
       "      <td>1206.08</td>\n",
       "    </tr>\n",
       "    <tr>\n",
       "      <th>4</th>\n",
       "      <td>2022-11-20T10:20:27.479845Z</td>\n",
       "      <td>387086077</td>\n",
       "      <td>1206.10</td>\n",
       "      <td>0.002762</td>\n",
       "      <td>sell</td>\n",
       "      <td>1206.10</td>\n",
       "      <td>0.002762</td>\n",
       "      <td>1206.10</td>\n",
       "    </tr>\n",
       "    <tr>\n",
       "      <th>5</th>\n",
       "      <td>2022-11-20T10:20:27.471601Z</td>\n",
       "      <td>387086076</td>\n",
       "      <td>1206.03</td>\n",
       "      <td>0.239100</td>\n",
       "      <td>sell</td>\n",
       "      <td>1206.03</td>\n",
       "      <td>0.239100</td>\n",
       "      <td>1206.03</td>\n",
       "    </tr>\n",
       "    <tr>\n",
       "      <th>6</th>\n",
       "      <td>2022-11-20T10:20:27.357285Z</td>\n",
       "      <td>387086075</td>\n",
       "      <td>1206.03</td>\n",
       "      <td>0.060900</td>\n",
       "      <td>sell</td>\n",
       "      <td>1206.03</td>\n",
       "      <td>0.060900</td>\n",
       "      <td>1206.03</td>\n",
       "    </tr>\n",
       "    <tr>\n",
       "      <th>7</th>\n",
       "      <td>2022-11-20T10:20:26.290497Z</td>\n",
       "      <td>387086074</td>\n",
       "      <td>1206.04</td>\n",
       "      <td>-0.027395</td>\n",
       "      <td>buy</td>\n",
       "      <td>1206.04</td>\n",
       "      <td>0.027395</td>\n",
       "      <td>1206.04</td>\n",
       "    </tr>\n",
       "    <tr>\n",
       "      <th>8</th>\n",
       "      <td>2022-11-20T10:20:24.440329Z</td>\n",
       "      <td>387086073</td>\n",
       "      <td>1206.07</td>\n",
       "      <td>0.002565</td>\n",
       "      <td>sell</td>\n",
       "      <td>1206.07</td>\n",
       "      <td>0.002565</td>\n",
       "      <td>1206.07</td>\n",
       "    </tr>\n",
       "    <tr>\n",
       "      <th>9</th>\n",
       "      <td>2022-11-20T10:20:23.527111Z</td>\n",
       "      <td>387086072</td>\n",
       "      <td>1206.05</td>\n",
       "      <td>0.500000</td>\n",
       "      <td>sell</td>\n",
       "      <td>1206.05</td>\n",
       "      <td>0.500000</td>\n",
       "      <td>1206.05</td>\n",
       "    </tr>\n",
       "  </tbody>\n",
       "</table>\n",
       "</div>"
      ],
      "text/plain": [
       "                          time   trade_id    price      size  side  \\\n",
       "0  2022-11-20T10:20:34.981893Z  387086081  1206.11  0.007972  sell   \n",
       "1  2022-11-20T10:20:33.515487Z  387086080  1206.06  2.072883  sell   \n",
       "2  2022-11-20T10:20:33.515487Z  387086079  1206.05  0.207289  sell   \n",
       "3   2022-11-20T10:20:27.70688Z  387086078  1206.08  0.041800  sell   \n",
       "4  2022-11-20T10:20:27.479845Z  387086077  1206.10  0.002762  sell   \n",
       "5  2022-11-20T10:20:27.471601Z  387086076  1206.03  0.239100  sell   \n",
       "6  2022-11-20T10:20:27.357285Z  387086075  1206.03  0.060900  sell   \n",
       "7  2022-11-20T10:20:26.290497Z  387086074  1206.04 -0.027395   buy   \n",
       "8  2022-11-20T10:20:24.440329Z  387086073  1206.07  0.002565  sell   \n",
       "9  2022-11-20T10:20:23.527111Z  387086072  1206.05  0.500000  sell   \n",
       "\n",
       "   trade_dollar_size  change_in_price  change_in_size  \n",
       "0            1206.11         0.007972         1206.11  \n",
       "1            1206.06         2.072883         1206.06  \n",
       "2            1206.05         0.207289         1206.05  \n",
       "3            1206.08         0.041800         1206.08  \n",
       "4            1206.10         0.002762         1206.10  \n",
       "5            1206.03         0.239100         1206.03  \n",
       "6            1206.03         0.060900         1206.03  \n",
       "7            1206.04         0.027395         1206.04  \n",
       "8            1206.07         0.002565         1206.07  \n",
       "9            1206.05         0.500000         1206.05  "
      ]
     },
     "execution_count": 11,
     "metadata": {},
     "output_type": "execute_result"
    }
   ],
   "source": [
    "df = trades()\n",
    "df.head(10)"
   ]
  },
  {
   "cell_type": "code",
   "execution_count": null,
   "id": "7b2b3494",
   "metadata": {},
   "outputs": [],
   "source": [
    "trades_5m()"
   ]
  },
  {
   "cell_type": "code",
   "execution_count": null,
   "id": "5c322d88",
   "metadata": {},
   "outputs": [],
   "source": [
    "def raw_trades ():\n",
    "    first = True\n",
    "    \n",
    "    while True:\n",
    "            if (dt.now().minute % 5 == 0 & dt.now().second % 1 == 0) or first:\n",
    "                trades()\n",
    "                "
   ]
  },
  {
   "cell_type": "code",
   "execution_count": null,
   "id": "7b6f8733",
   "metadata": {},
   "outputs": [],
   "source": []
  },
  {
   "cell_type": "code",
   "execution_count": null,
   "id": "ae7ef1ec",
   "metadata": {},
   "outputs": [],
   "source": [
    "# get_trades = client.get_product_trades(product_id='ETH-USD')"
   ]
  },
  {
   "cell_type": "code",
   "execution_count": null,
   "id": "e9f8ce9c",
   "metadata": {},
   "outputs": [],
   "source": [
    "# df = list(itertools.islice(get_trades, 5000000))"
   ]
  },
  {
   "cell_type": "code",
   "execution_count": null,
   "id": "70c9cc20",
   "metadata": {},
   "outputs": [],
   "source": [
    "# df = pd.DataFrame(df)"
   ]
  },
  {
   "cell_type": "code",
   "execution_count": null,
   "id": "86bb2fa0",
   "metadata": {},
   "outputs": [],
   "source": [
    "# df = pd.DataFrame(df[:-1])"
   ]
  },
  {
   "cell_type": "code",
   "execution_count": null,
   "id": "b4de91c5",
   "metadata": {},
   "outputs": [],
   "source": [
    "# df"
   ]
  },
  {
   "cell_type": "code",
   "execution_count": null,
   "id": "a0aba14e",
   "metadata": {},
   "outputs": [],
   "source": [
    "# df['price'] = pd.to_numeric(df['price'])\n",
    "# df['size'] = pd.to_numeric(df['size'])\n",
    "\n",
    "# df['trade_dollar_size'] = df['price'] * df['size']\n",
    "# df ['change_in_price'] = df['price'].diff()\n",
    "\n",
    "# df ['change_in_size'] = df['size'].diff()\n",
    "\n",
    "# df['trade_dollar_size'] = pd.to_numeric(df['price'])\n",
    "# df['change_in_price'] = pd.to_numeric(df['size'])\n",
    "# df['change_in_size'] = pd.to_numeric(df['price'])\n",
    "\n",
    "# df[['price', 'size','trade_dollar_size','change_in_price']].describe()\n",
    "\n",
    "# df.drop(['trade_id'], axis=1)"
   ]
  },
  {
   "cell_type": "code",
   "execution_count": null,
   "id": "d12520e5",
   "metadata": {},
   "outputs": [],
   "source": []
  },
  {
   "cell_type": "code",
   "execution_count": null,
   "id": "3532f2d5",
   "metadata": {},
   "outputs": [],
   "source": [
    "# df.loc[df['side'] == 'buy', 'size'] = df['size'] * -1\n",
    "# df.loc[df['side'] == 'sell', 'size'] = df['size'] * 1"
   ]
  },
  {
   "cell_type": "code",
   "execution_count": null,
   "id": "68a6cf4d",
   "metadata": {},
   "outputs": [],
   "source": []
  },
  {
   "cell_type": "code",
   "execution_count": null,
   "id": "e4e52902",
   "metadata": {},
   "outputs": [],
   "source": [
    "# df_describe = df[['price', 'size','trade_dollar_size','change_in_price']].describe()"
   ]
  },
  {
   "cell_type": "code",
   "execution_count": null,
   "id": "69112595",
   "metadata": {},
   "outputs": [],
   "source": [
    "# df_describe.to_csv(r\"D:\\Trading\\Bot\\Docs/ETHUSD Trades_Describe.csv\",index=False)"
   ]
  },
  {
   "cell_type": "code",
   "execution_count": null,
   "id": "d885a541",
   "metadata": {},
   "outputs": [],
   "source": [
    "# df.to_csv(r\"D:\\Trading\\Bot\\Docs/ETHUSD Trades.csv\",index=False)"
   ]
  },
  {
   "cell_type": "code",
   "execution_count": null,
   "id": "341c2ca7",
   "metadata": {},
   "outputs": [],
   "source": []
  }
 ],
 "metadata": {
  "kernelspec": {
   "display_name": "Python 3 (ipykernel)",
   "language": "python",
   "name": "python3"
  },
  "language_info": {
   "codemirror_mode": {
    "name": "ipython",
    "version": 3
   },
   "file_extension": ".py",
   "mimetype": "text/x-python",
   "name": "python",
   "nbconvert_exporter": "python",
   "pygments_lexer": "ipython3",
   "version": "3.9.13"
  },
  "vscode": {
   "interpreter": {
    "hash": "9f1d38ad1c3864df9d0e2cf28585537b32ae118c96ef2975b3475d62942b32de"
   }
  }
 },
 "nbformat": 4,
 "nbformat_minor": 5
}
