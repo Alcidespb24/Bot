{
 "cells": [
  {
   "cell_type": "code",
   "execution_count": 2,
   "id": "3caa8c80",
   "metadata": {},
   "outputs": [],
   "source": [
    "import pandas as pd\n",
    "import cbpro\n",
    "import datetime as datetime\n",
    "from datetime import datetime, timedelta\n",
    "import numpy as np\n",
    "import itertools\n",
    "import plotly.express as px\n",
    "import plotly.graph_objects as go\n",
    "from plotly.subplots import make_subplots\n",
    "import dash\n",
    "from dash import dcc, html\n",
    "from dash.dependencies import Input, Output\n",
    "from dash import Dash, html, dcc\n",
    "import warnings\n",
    "warnings.filterwarnings('ignore')\n",
    "warnings.simplefilter('ignore')\n",
    "# from trades_all import trades"
   ]
  },
  {
   "cell_type": "code",
   "execution_count": 3,
   "id": "2a6ed949",
   "metadata": {},
   "outputs": [
    {
     "name": "stdout",
     "output_type": "stream",
     "text": [
      "2022-11-20 05:22:58.713005\n",
      "2022-11-20 05:17:58.713005\n",
      "0:05:00\n"
     ]
    }
   ],
   "source": [
    "currentTime = datetime.now()\n",
    "futuredate = currentTime - timedelta(minutes=5)\n",
    "futuredate.isoformat()\n",
    "\n",
    "print (currentTime)\n",
    "print(futuredate)\n",
    "print(timedelta(minutes=5))"
   ]
  },
  {
   "cell_type": "code",
   "execution_count": 4,
   "id": "438a87b9",
   "metadata": {},
   "outputs": [],
   "source": [
    "# client = cbpro.PublicClient()\n",
    "# client.get_product_trades(product_id=f'{symbol}')\n",
    "    \n",
    "# get_trades = client.get_product_trades(product_id=f'{symbol}',before = currentTime, after = futuredate.isoformat())\n",
    "# get_trades"
   ]
  },
  {
   "cell_type": "code",
   "execution_count": 5,
   "id": "7fda10c5",
   "metadata": {},
   "outputs": [],
   "source": [
    "symbol = 'ETH-USD'\n",
    "\n",
    "def trades ():    \n",
    "    currentTime = datetime.now()\n",
    "    futuredate = currentTime - timedelta(minutes=5)\n",
    "    futuredate.isoformat()\n",
    "    \n",
    "    client = cbpro.PublicClient()\n",
    "    client.get_product_trades(product_id=f'{symbol}')\n",
    "    \n",
    "    get_trades_init = client.get_product_trades(product_id=f'{symbol}')\n",
    "    \n",
    "    date = next(get_trades_init)[\"time\"]\n",
    "    format_t = datetime.strptime(date,'%Y-%m-%dT%H:%M:%S.%f%z')\n",
    "    my_list = []\n",
    "    \n",
    "    while True:\n",
    "        get_trades_latest = client.get_product_trades(product_id=f'{symbol}')\n",
    "        current_element = next(get_trades_latest) \n",
    "        current_time = current_element['time']\n",
    "        current_time_formatted = datetime.strptime(date,'%Y-%m-%dT%H:%M:%S.%f%z')\n",
    "        my_list.append(current_element)\n",
    "        if current_time >= futuredate:\n",
    "            break\n",
    "    print(my_list)\n",
    "        \n",
    "    \n",
    "#     df = pd.DataFrame(df)\n",
    "#     df = pd.DataFrame(df[:-1])\n",
    "    \n",
    "#     df['time'] = df['time'].values.astype('datetime64[s]')\n",
    "\n",
    "#     df['price'] = pd.to_numeric(df['price'])\n",
    "#     df['size'] = pd.to_numeric(df['size'])\n",
    "\n",
    "#     df['trade_dollar_size'] = df['price'] * df['size']\n",
    "#     df ['change_in_price'] = df['price'].diff()\n",
    "\n",
    "#     df ['change_in_size'] = df['size'].diff()\n",
    "\n",
    "#     df['trade_dollar_size'] = pd.to_numeric(df['price'])\n",
    "#     df['change_in_price'] = pd.to_numeric(df['size'])\n",
    "#     df['change_in_size'] = pd.to_numeric(df['price'])\n",
    "\n",
    "#     df[['price', 'size','trade_dollar_size','change_in_price']].describe()\n",
    "\n",
    "#     df.drop(['trade_id'], axis=1)\n",
    "    \n",
    "#     df.loc[df['side'] == 'buy', 'size'] = df['size'] * -1\n",
    "#     df.loc[df['side'] == 'sell', 'size'] = df['size'] * 1\n",
    "    \n",
    "#     df['time'] = df['time'].values.astype('datetime64[s]')\n",
    "    \n",
    "#     df['time'] = df['time'].values.astype('datetime64[s]')\n",
    "    \n",
    "#     df_5m = df.resample('5min', on='time').agg({'price':'mean', 'size':'sum','side':'count'}).rename(columns={'price':'average price','size': 'sum of size','side':'volume'})\n",
    "\n",
    "#     df_5m['change_in_price'] = df_5m['average price'].diff()\n",
    "#     df_5m['change_in_size'] = df_5m['sum of size'].diff()\n",
    "#     df_5m['change_in_volume'] = df_5m['volume'].diff()\n",
    "    \n",
    "#     df.to_csv(r\"D:\\Trading\\Bot\\Docs/ETHUSD Trades.csv\",index=False)"
   ]
  },
  {
   "cell_type": "code",
   "execution_count": null,
   "id": "dc4b3cdd",
   "metadata": {},
   "outputs": [],
   "source": []
  },
  {
   "cell_type": "code",
   "execution_count": 6,
   "id": "1574578e",
   "metadata": {},
   "outputs": [
    {
     "ename": "TypeError",
     "evalue": "'>=' not supported between instances of 'str' and 'datetime.datetime'",
     "output_type": "error",
     "traceback": [
      "\u001b[1;31m---------------------------------------------------------------------------\u001b[0m",
      "\u001b[1;31mTypeError\u001b[0m                                 Traceback (most recent call last)",
      "\u001b[1;32m~\\AppData\\Local\\Temp\\ipykernel_4620\\954080329.py\u001b[0m in \u001b[0;36m<module>\u001b[1;34m\u001b[0m\n\u001b[1;32m----> 1\u001b[1;33m \u001b[0mdf\u001b[0m \u001b[1;33m=\u001b[0m \u001b[0mtrades\u001b[0m\u001b[1;33m(\u001b[0m\u001b[1;33m)\u001b[0m\u001b[1;33m\u001b[0m\u001b[1;33m\u001b[0m\u001b[0m\n\u001b[0m\u001b[0;32m      2\u001b[0m \u001b[0mdf\u001b[0m\u001b[1;33m\u001b[0m\u001b[1;33m\u001b[0m\u001b[0m\n",
      "\u001b[1;32m~\\AppData\\Local\\Temp\\ipykernel_4620\\73762931.py\u001b[0m in \u001b[0;36mtrades\u001b[1;34m()\u001b[0m\n\u001b[0;32m     21\u001b[0m         \u001b[0mcurrent_time_formatted\u001b[0m \u001b[1;33m=\u001b[0m \u001b[0mdatetime\u001b[0m\u001b[1;33m.\u001b[0m\u001b[0mstrptime\u001b[0m\u001b[1;33m(\u001b[0m\u001b[0mdate\u001b[0m\u001b[1;33m,\u001b[0m\u001b[1;34m'%Y-%m-%dT%H:%M:%S.%f%z'\u001b[0m\u001b[1;33m)\u001b[0m\u001b[1;33m\u001b[0m\u001b[1;33m\u001b[0m\u001b[0m\n\u001b[0;32m     22\u001b[0m         \u001b[0mmy_list\u001b[0m\u001b[1;33m.\u001b[0m\u001b[0mappend\u001b[0m\u001b[1;33m(\u001b[0m\u001b[0mcurrent_element\u001b[0m\u001b[1;33m)\u001b[0m\u001b[1;33m\u001b[0m\u001b[1;33m\u001b[0m\u001b[0m\n\u001b[1;32m---> 23\u001b[1;33m         \u001b[1;32mif\u001b[0m \u001b[0mcurrent_time\u001b[0m \u001b[1;33m>=\u001b[0m \u001b[0mfuturedate\u001b[0m\u001b[1;33m:\u001b[0m\u001b[1;33m\u001b[0m\u001b[1;33m\u001b[0m\u001b[0m\n\u001b[0m\u001b[0;32m     24\u001b[0m             \u001b[1;32mbreak\u001b[0m\u001b[1;33m\u001b[0m\u001b[1;33m\u001b[0m\u001b[0m\n\u001b[0;32m     25\u001b[0m     \u001b[0mprint\u001b[0m\u001b[1;33m(\u001b[0m\u001b[0mmy_list\u001b[0m\u001b[1;33m)\u001b[0m\u001b[1;33m\u001b[0m\u001b[1;33m\u001b[0m\u001b[0m\n",
      "\u001b[1;31mTypeError\u001b[0m: '>=' not supported between instances of 'str' and 'datetime.datetime'"
     ]
    }
   ],
   "source": [
    "df = trades()\n",
    "df"
   ]
  },
  {
   "cell_type": "code",
   "execution_count": null,
   "id": "dff8dd5d",
   "metadata": {},
   "outputs": [],
   "source": [
    "symbol = 'ETH-USD'\n",
    "\n",
    "client = cbpro.PublicClient()\n",
    "client.get_product_trades(product_id=f'{symbol}')\n",
    "    \n",
    "get_trades = client.get_product_trades(product_id=f'{symbol}')\n",
    "\n",
    "trades_data = list(get_trades)\n",
    "df = pd.DataFrame(trades_data[:-1])"
   ]
  },
  {
   "cell_type": "code",
   "execution_count": null,
   "id": "f7e0b4f7",
   "metadata": {},
   "outputs": [],
   "source": [
    "symbol = 'ETH-USD'\n",
    "\n",
    "client = cbpro.PublicClient()\n",
    "client.get_product_trades(product_id=f'{symbol}')\n",
    "    \n",
    "get_trades = client.get_product_trades(product_id=f'{symbol}')\n",
    "\n",
    "df = list(itertools.islice(get_trades, 1000))\n",
    "df = pd.DataFrame(df[:-1])"
   ]
  },
  {
   "cell_type": "code",
   "execution_count": null,
   "id": "34bc3ca2",
   "metadata": {},
   "outputs": [],
   "source": [
    "df['price'] = pd.to_numeric(df['price'])\n",
    "df['size'] = pd.to_numeric(df['size'])\n",
    "\n",
    "df['trade_dollar_size'] = df['price'] * df['size']\n",
    "df ['change_in_price'] = df['price'].diff()\n",
    "\n",
    "df ['change_in_size'] = df['size'].diff()\n",
    "\n",
    "df['trade_dollar_size'] = pd.to_numeric(df['price'])\n",
    "df['change_in_price'] = pd.to_numeric(df['size'])\n",
    "df['change_in_size'] = pd.to_numeric(df['price'])\n",
    "\n",
    "df[['price', 'size','trade_dollar_size','change_in_price']].describe()\n",
    "\n",
    "df.drop(['trade_id'], axis=1)\n",
    "    \n",
    "df.loc[df['side'] == 'buy', 'size'] = df['size'] * -1\n",
    "df.loc[df['side'] == 'sell', 'size'] = df['size'] * 1\n",
    "    \n",
    "df.to_csv(r\"D:\\Trading\\Bot\\Docs/ETHUSD Trades.csv\",index=False)\n",
    "    \n",
    "df = pd.read_csv(\"D:\\Trading\\Bot\\Docs/ETHUSD Trades.csv\")\n",
    "    \n",
    "df['time'] = df['time'].values.astype('datetime64[s]')\n",
    "    \n",
    "df_5m = df.resample('5min', on='time').agg({'price':'mean', 'size':'sum','side':'count'}).rename(columns={'price':'average price','size': 'sum of size','side':'volume'})\n",
    "\n",
    "df_5m['change_in_price'] = df_5m['average price'].diff()\n",
    "df_5m['change_in_size'] = df_5m['sum of size'].diff()\n",
    "df_5m['change_in_volume'] = df_5m['volume'].diff()\n"
   ]
  },
  {
   "cell_type": "code",
   "execution_count": null,
   "id": "37b5d416",
   "metadata": {},
   "outputs": [],
   "source": [
    "first = True\n",
    "\n",
    "while True:\n",
    "    if (datetime.now().minute % 5 == 0):\n",
    "        if(datetime.now().second % 1 == 0):\n",
    "            print(df)"
   ]
  },
  {
   "cell_type": "code",
   "execution_count": null,
   "id": "8122ad03",
   "metadata": {},
   "outputs": [],
   "source": [
    "df"
   ]
  },
  {
   "cell_type": "code",
   "execution_count": null,
   "id": "318fcff5",
   "metadata": {},
   "outputs": [],
   "source": [
    "# symbol = 'ETH-USD'\n",
    "\n",
    "# client = cbpro.PublicClient()\n",
    "# client.get_product_trades(product_id=f'{symbol}')\n",
    "    \n",
    "# get_trades = client.get_product_trades(product_id=f'{symbol}',before = currentTime, after = futuredate)"
   ]
  },
  {
   "cell_type": "code",
   "execution_count": null,
   "id": "d57a7181",
   "metadata": {},
   "outputs": [],
   "source": [
    "# first = True\n",
    "# while True:\n",
    "#     if (datetime.now().minute % 5 == 0) or first:\n",
    "#         if(datetime.now().second % 1 == 0):\n",
    "#             for i in range(1):\n",
    "#                 next(get_trades)\n",
    "#                 print (next(get_trades))"
   ]
  },
  {
   "cell_type": "code",
   "execution_count": null,
   "id": "fb9aaca1",
   "metadata": {},
   "outputs": [],
   "source": [
    "symbol = 'ETH-USD'\n",
    "\n",
    "def trades ():    \n",
    "    client = cbpro.PublicClient()\n",
    "    client.get_product_trades(product_id=f'{symbol}')\n",
    "    \n",
    "    get_trades = client.get_product_trades(product_id=f'{symbol}', before = currentTime, after = futuredate)\n",
    "    next(get_trades)\n",
    "\n",
    "    trades = list(get_trades)\n",
    "    df = pd.DataFrame(trades[:-1])\n",
    "    \n",
    "    df['price'] = pd.to_numeric(df['price'])\n",
    "    df['size'] = pd.to_numeric(df['size'])\n",
    "\n",
    "    df['trade_dollar_size'] = df['price'] * df['size']\n",
    "    df ['change_in_price'] = df['price'].diff()\n",
    "\n",
    "    df ['change_in_size'] = df['size'].diff()\n",
    "\n",
    "    df['trade_dollar_size'] = pd.to_numeric(df['price'])\n",
    "    df['change_in_price'] = pd.to_numeric(df['size'])\n",
    "    df['change_in_size'] = pd.to_numeric(df['price'])\n",
    "\n",
    "    df[['price', 'size','trade_dollar_size','change_in_price']].describe()\n",
    "\n",
    "    df.drop(['trade_id'], axis=1)\n",
    "    \n",
    "    df.loc[df['side'] == 'buy', 'size'] = df['size'] * -1\n",
    "    df.loc[df['side'] == 'sell', 'size'] = df['size'] * 1\n",
    "    \n",
    "    df['time'] = df['time'].values.astype('datetime64[s]')\n",
    "    \n",
    "    df_5m = df.resample('5min', on='time').agg({'price':'mean', 'size':'sum','side':'count'}).rename(columns={'price':'average price','size': 'sum of size','side':'volume'})\n",
    "\n",
    "    df_5m['change_in_price'] = df_5m['average price'].diff()\n",
    "    df_5m['change_in_size'] = df_5m['sum of size'].diff()\n",
    "    df_5m['change_in_volume'] = df_5m['volume'].diff()\n",
    "    \n",
    "    df_5m.to_csv(r\"D:\\Trading\\Bot\\Docs/ETHUSD Trades_5m.csv\",index=True)\n",
    "  \n",
    "    return(df_5m)"
   ]
  },
  {
   "cell_type": "code",
   "execution_count": null,
   "id": "64a376e3",
   "metadata": {},
   "outputs": [],
   "source": [
    "df = trades()\n",
    "df"
   ]
  },
  {
   "cell_type": "code",
   "execution_count": null,
   "id": "7147adc7",
   "metadata": {},
   "outputs": [],
   "source": [
    "app = dash.Dash(__name__)\n",
    "app.layout = html.Div(\n",
    "    html.Div([\n",
    "        html.H4('Live Update'),\n",
    "        html.Div(id='live-update-text'),\n",
    "        dcc.Graph(id='live-update-graph'),\n",
    "        dcc.Interval(\n",
    "            id='interval-component',\n",
    "            interval=1*1000, # in milliseconds\n",
    "            n_intervals=0\n",
    "        )\n",
    "    ])\n",
    ")"
   ]
  },
  {
   "cell_type": "code",
   "execution_count": null,
   "id": "7d5914ff",
   "metadata": {},
   "outputs": [],
   "source": []
  },
  {
   "cell_type": "code",
   "execution_count": null,
   "id": "a83392dc",
   "metadata": {},
   "outputs": [],
   "source": [
    "@app.callback(Output('live-update-graph', 'figure'),\n",
    "              Input('interval-component', 'n_intervals'))\n",
    "def update_graph_live(n):\n",
    "    first = True\n",
    "    \n",
    "    while True:\n",
    "            if (datetime.now().minute % 5 == 0) or first:\n",
    "                if(datetime.now().second % 1 == 0):\n",
    "                    df = trades()\n",
    "                    df_5m.read_csv(r\"D:\\Trading\\Bot\\Docs/ETHUSD Trades_5m.csv\",index=True)\n",
    "    \n",
    "    fig = px.scatter(df_5m, x='change_in_size',y='change_in_price',text='sum of size',size='volume',color='time', title='Change in Price & Change in Price')\n",
    "    fig.update_layout(autosize=True)\n",
    "    fig.show()\n",
    "    \n",
    "    return(fig)"
   ]
  },
  {
   "cell_type": "code",
   "execution_count": null,
   "id": "5493a34b",
   "metadata": {},
   "outputs": [],
   "source": [
    "if __name__ == '__main__':\n",
    "    app.run_server(debug=True,use_reloader=False)"
   ]
  },
  {
   "cell_type": "code",
   "execution_count": null,
   "id": "2e8922de",
   "metadata": {},
   "outputs": [],
   "source": []
  }
 ],
 "metadata": {
  "kernelspec": {
   "display_name": "Python 3 (ipykernel)",
   "language": "python",
   "name": "python3"
  },
  "language_info": {
   "codemirror_mode": {
    "name": "ipython",
    "version": 3
   },
   "file_extension": ".py",
   "mimetype": "text/x-python",
   "name": "python",
   "nbconvert_exporter": "python",
   "pygments_lexer": "ipython3",
   "version": "3.9.13"
  }
 },
 "nbformat": 4,
 "nbformat_minor": 5
}
