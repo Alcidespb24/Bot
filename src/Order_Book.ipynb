{
 "cells": [
  {
   "cell_type": "code",
   "execution_count": null,
   "id": "a198558f",
   "metadata": {},
   "outputs": [],
   "source": [
    "import cbpro\n",
    "import pandas as pd\n",
    "from pathlib import Path\n",
    "import time \n",
    "import matplotlib.pyplot as plt\n",
    "import seaborn as sns\n",
    "import datetime as dt\n",
    "import pytz\n",
    "import holoviews as hv\n",
    "import datashader\n",
    "import warnings\n",
    "warnings.filterwarnings('ignore')\n",
    "\n",
    "def ob():\n",
    "    \n",
    "    client = cbpro.PublicClient()\n",
    "\n",
    "    # order_book = cbp.get_product_order_book('ETH-USD')\n",
    "\n",
    "    order_book = cbpro.OrderBook(product_id='ETH-USD')\n",
    "    order_book.start()\n",
    "\n",
    "    data = client.get_product_order_book('ETH-USD', level=2)\n",
    "    data\n",
    "\n",
    "    # df = pd.DataFrame(data['bids'])\n",
    "    # df\n",
    "    bids = pd.DataFrame(data['bids'])\n",
    "    asks = pd.DataFrame(data['asks'])\n",
    "    # df = pd.DataFrame(data)\n",
    "\n",
    "    df = pd.merge(bids, asks, left_index=True, right_index=True)\n",
    "    df = df.rename({\"0_x\":\"Bid Price\",\"1_x\":\"Bid Size\", \"2_x\":\"Bid Amount\",\n",
    "                    \"0_y\":\"Ask Price\",\"1_y\":\"Ask Size\", \"2_y\":\"Ask Amount\"}, axis='columns')\n",
    "\n",
    "    df['Bid Price'] = pd.to_numeric(df['Bid Price'])\n",
    "    df['Ask Price'] = pd.to_numeric(df['Ask Price'])\n",
    "    df['Bid Size'] = pd.to_numeric(df['Bid Size'])\n",
    "    df['Ask Size'] = pd.to_numeric(df['Ask Size'])\n",
    "    df['Bid Amount'] = pd.to_numeric(df['Bid Amount'])\n",
    "    df['Ask Amount'] = pd.to_numeric(df['Ask Amount'])\n",
    "\n",
    "    df['Spread'] = df['Bid Price']-df['Ask Price']\n",
    "    df['Diff Size'] = df['Bid Size']-df['Ask Size']\n",
    "    \n",
    "    order_book.close()\n",
    "    return (df)\n",
    "\n",
    "df = ob()\n",
    "\n",
    "df.iloc[1]\n",
    "\n",
    "df.to_csv(r\"D:\\Trading\\Bot\\Docs/ETHUSD Bids.csv\",index=False)"
   ]
  }
 ],
 "metadata": {
  "kernelspec": {
   "display_name": "Python 3 (ipykernel)",
   "language": "python",
   "name": "python3"
  },
  "language_info": {
   "codemirror_mode": {
    "name": "ipython",
    "version": 3
   },
   "file_extension": ".py",
   "mimetype": "text/x-python",
   "name": "python",
   "nbconvert_exporter": "python",
   "pygments_lexer": "ipython3",
   "version": "3.9.13"
  }
 },
 "nbformat": 4,
 "nbformat_minor": 5
}
